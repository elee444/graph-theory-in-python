{
  "nbformat": 4,
  "nbformat_minor": 0,
  "metadata": {
    "kernelspec": {
      "display_name": "Python 3",
      "language": "python",
      "name": "python3"
    },
    "language_info": {
      "codemirror_mode": {
        "name": "ipython",
        "version": 3
      },
      "file_extension": ".py",
      "mimetype": "text/x-python",
      "name": "python",
      "nbconvert_exporter": "python",
      "pygments_lexer": "ipython3",
      "version": "3.8.1"
    },
    "colab": {
      "name": "perm_comb.ipynb",
      "provenance": [],
      "include_colab_link": true
    }
  },
  "cells": [
    {
      "cell_type": "markdown",
      "metadata": {
        "id": "view-in-github",
        "colab_type": "text"
      },
      "source": [
        "<a href=\"https://colab.research.google.com/github/elee444/graph-theory-in-python/blob/master/perm_comb.ipynb\" target=\"_parent\"><img src=\"https://colab.research.google.com/assets/colab-badge.svg\" alt=\"Open In Colab\"/></a>"
      ]
    },
    {
      "cell_type": "markdown",
      "metadata": {
        "id": "xjLJam317IkJ",
        "colab_type": "text"
      },
      "source": [
        "#General permutations P(n,n)"
      ]
    },
    {
      "cell_type": "code",
      "metadata": {
        "id": "xpL8F9-v7IkP",
        "colab_type": "code",
        "colab": {}
      },
      "source": [
        "from itertools import permutations  #P(3,3)\n",
        "seq = list(permutations(['1','2','3']))"
      ],
      "execution_count": 0,
      "outputs": []
    },
    {
      "cell_type": "code",
      "metadata": {
        "id": "aQc-fHMB7IkX",
        "colab_type": "code",
        "colab": {
          "base_uri": "https://localhost:8080/",
          "height": 34
        },
        "outputId": "420d7153-e902-4760-be1d-2400d3365282"
      },
      "source": [
        "print(seq)\n"
      ],
      "execution_count": 2,
      "outputs": [
        {
          "output_type": "stream",
          "text": [
            "[('1', '2', '3'), ('1', '3', '2'), ('2', '1', '3'), ('2', '3', '1'), ('3', '1', '2'), ('3', '2', '1')]\n"
          ],
          "name": "stdout"
        }
      ]
    },
    {
      "cell_type": "code",
      "metadata": {
        "id": "f3xU9_Ym7Ikg",
        "colab_type": "code",
        "colab": {
          "base_uri": "https://localhost:8080/",
          "height": 34
        },
        "outputId": "352e2db4-7e6e-44f9-ef2c-c15500cb22ed"
      },
      "source": [
        "print(len(seq))"
      ],
      "execution_count": 3,
      "outputs": [
        {
          "output_type": "stream",
          "text": [
            "6\n"
          ],
          "name": "stdout"
        }
      ]
    },
    {
      "cell_type": "markdown",
      "metadata": {
        "id": "QLVl-ihX7Ikn",
        "colab_type": "text"
      },
      "source": [
        "#2-permutations P(3,2)"
      ]
    },
    {
      "cell_type": "code",
      "metadata": {
        "id": "o8wmm7qS7Ikq",
        "colab_type": "code",
        "colab": {}
      },
      "source": [
        "seq2 = list(permutations(['1','2','3'],2))"
      ],
      "execution_count": 0,
      "outputs": []
    },
    {
      "cell_type": "code",
      "metadata": {
        "id": "_WSEGit87Ikw",
        "colab_type": "code",
        "colab": {
          "base_uri": "https://localhost:8080/",
          "height": 34
        },
        "outputId": "9043c4ca-4bea-4a1e-b357-867c1873feeb"
      },
      "source": [
        "print(seq2)"
      ],
      "execution_count": 5,
      "outputs": [
        {
          "output_type": "stream",
          "text": [
            "[('1', '2'), ('1', '3'), ('2', '1'), ('2', '3'), ('3', '1'), ('3', '2')]\n"
          ],
          "name": "stdout"
        }
      ]
    },
    {
      "cell_type": "markdown",
      "metadata": {
        "id": "TOvczbtQ7Ik5",
        "colab_type": "text"
      },
      "source": [
        "Combinations C(n,r)"
      ]
    },
    {
      "cell_type": "code",
      "metadata": {
        "id": "jwrX-obt7Ik8",
        "colab_type": "code",
        "colab": {}
      },
      "source": [
        "from itertools import combinations "
      ],
      "execution_count": 0,
      "outputs": []
    },
    {
      "cell_type": "code",
      "metadata": {
        "id": "i1pr0T_57IlB",
        "colab_type": "code",
        "colab": {}
      },
      "source": [
        "comseq=list(combinations(['1','2','3'],3))"
      ],
      "execution_count": 0,
      "outputs": []
    },
    {
      "cell_type": "code",
      "metadata": {
        "id": "M8o8oQms7IlH",
        "colab_type": "code",
        "colab": {
          "base_uri": "https://localhost:8080/",
          "height": 34
        },
        "outputId": "1526ce50-fcf2-4311-ad12-9e77881366ee"
      },
      "source": [
        "print(comseq)"
      ],
      "execution_count": 8,
      "outputs": [
        {
          "output_type": "stream",
          "text": [
            "[('1', '2', '3')]\n"
          ],
          "name": "stdout"
        }
      ]
    },
    {
      "cell_type": "code",
      "metadata": {
        "id": "4q1tcqHJ7IlN",
        "colab_type": "code",
        "colab": {}
      },
      "source": [
        ""
      ],
      "execution_count": 0,
      "outputs": []
    }
  ]
}